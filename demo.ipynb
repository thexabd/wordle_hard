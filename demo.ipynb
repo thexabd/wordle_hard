{
 "cells": [
  {
   "cell_type": "markdown",
   "metadata": {},
   "source": [
    "# A demo of Wordle Solvers\n",
    "- To guess an unknown 5-letter English word in fewest attempts\n",
    "- Inspired by the Wordle game: https://www.powerlanguage.co.uk/wordle/\n",
    "\n",
    "# Overview\n",
    "- Two wordle solvers for a 5-letter Wordle game as follows:\n",
    "\n",
    "### The Heuristic solver \n",
    "``HeuristicWordlePlayer``\n",
    "- Picks the guess based on **character frequencies**\n",
    "- A word scores higher if it is composed of common characters rather than rare characters\n",
    "- The worse and average number of guesses is **6** and **~3.82**, with the first guess as **\"raise\"**\n",
    "- Computes on-the-fly. \n",
    "\n",
    "### The Maximum Information Gain Solver \n",
    "``MaxInformationGainWordlePlayer``\n",
    "- Picks the guess based on **maximizing information gain**\n",
    "- A word scores higher if it generates the maximum Shannon entropy from its response distribution(the count of all possible response outcomes with respect to the available target words).\n",
    "- The worse and average number of guesses is **5** and **~3.65**, with the first guess as **\"react\"**\n",
    "- Computes slower and is optimized by pre-computation\n",
    "- Providing a larger word list as the guess list improves the average number of guesses to **~3.60** with the start word as **\"reast\", \"trace\"** etc\n",
    "\n",
    "### Users can...\n",
    "``interactive_play``:\n",
    "- Interact with the solvers to guess an unknown word by providing responses\n",
    "- Examine the performance of the solvers by providing different target words\n",
    "\n",
    "``check_first_guess_performance``, ``check_topK_guesses_performance``:\n",
    "- Specify different \"first-guess\" words and check the optimal first-guess against all target words\n",
    "- results are saved in the ``output`` folder"
   ]
  },
  {
   "cell_type": "markdown",
   "metadata": {},
   "source": [
    "# 1. Import list of words"
   ]
  },
  {
   "cell_type": "code",
   "execution_count": 1,
   "metadata": {},
   "outputs": [
    {
     "name": "stdout",
     "output_type": "stream",
     "text": [
      "Small size of words:  2315\n",
      "Large size of words:  12972\n"
     ]
    }
   ],
   "source": [
    "from main import get_words\n",
    "\n",
    "small_words = get_words(\"small\")\n",
    "large_words = get_words(\"large\")\n",
    "print(\"Small size of words: \", len(small_words))\n",
    "print(\"Large size of words: \", len(large_words))"
   ]
  },
  {
   "cell_type": "markdown",
   "metadata": {},
   "source": [
    "# 2. Create a Wordle Object"
   ]
  },
  {
   "cell_type": "code",
   "execution_count": 2,
   "metadata": {},
   "outputs": [
    {
     "name": "stdout",
     "output_type": "stream",
     "text": [
      "Wordle Response Representation\n",
      " A 5-character response with the format:\n",
      "- \"0\": wrong letter\n",
      "- \"1\": correct letter but wrong position\n",
      "- \"2\": correct letter and correct position\n"
     ]
    }
   ],
   "source": [
    "from Wordle import Wordle\n",
    "\n",
    "wordle = Wordle(5, small_words)\n",
    "print(\"Wordle Response Representation\\n\", wordle.get_response_description())"
   ]
  },
  {
   "cell_type": "markdown",
   "metadata": {},
   "source": [
    "# 3. Import Solvers"
   ]
  },
  {
   "cell_type": "code",
   "execution_count": 3,
   "metadata": {},
   "outputs": [],
   "source": [
    "from HeuristicWordlePlayer import HeuristicWordlePlayer\n",
    "from MaxInformationGainWordlePlayer import MaxInformationGainWordlePlayer"
   ]
  },
  {
   "cell_type": "markdown",
   "metadata": {},
   "source": [
    "# 4. Example: The Heuristic Solver"
   ]
  },
  {
   "cell_type": "markdown",
   "metadata": {},
   "source": [
    "### 4.1. Initiate a solver object"
   ]
  },
  {
   "cell_type": "code",
   "execution_count": 4,
   "metadata": {},
   "outputs": [],
   "source": [
    "heuristic_player = HeuristicWordlePlayer(wordle, guess_list=small_words)"
   ]
  },
  {
   "cell_type": "markdown",
   "metadata": {},
   "source": [
    "### 4.2. Play interactively with an unknown target"
   ]
  },
  {
   "cell_type": "code",
   "execution_count": 5,
   "metadata": {
    "scrolled": false
   },
   "outputs": [
    {
     "name": "stdout",
     "output_type": "stream",
     "text": [
      "##################################################\n",
      "### Welcome to the Interactive Mode! ###\n",
      "# Wordle Response Format-  A 5-character response with the format:\n",
      "- \"0\": wrong letter\n",
      "- \"1\": correct letter but wrong position\n",
      "- \"2\": correct letter and correct position\n",
      "##################################################\n",
      "\n",
      "TARGET:  UNKNOWN\n",
      "# Guesses: 1, Picked Guess: alert (Score: 4117.00), # Available Candidates: 2315\n",
      "Type the response...\n",
      "00100\n",
      "\n",
      "# Guesses: 2, Picked Guess: scion (Score: 270.00), # Available Candidates: 145\n",
      "Type the response...\n",
      "01101\n",
      "\n",
      "# Guesses: 3, Picked Guess: match (Score: 2.00), # Available Candidates: 3\n",
      "Type the response...\n",
      "00020\n",
      "\n",
      "# Guesses: 4, Picked Guess: wince (Score: 0.00), # Available Candidates: 1\n",
      "Type the response...\n",
      "22222\n",
      "\n",
      "Congrats! Total Guesses: 4\n"
     ]
    }
   ],
   "source": [
    "from main import interactive_play\n",
    "\n",
    "interactive_play(wordle, heuristic_player, with_target=False)"
   ]
  },
  {
   "cell_type": "markdown",
   "metadata": {},
   "source": [
    "### use it to solve the daily Wordle"
   ]
  },
  {
   "cell_type": "markdown",
   "metadata": {},
   "source": [
    "![alt text](img/solve_wordle_heuristic_alert_20220122.png \"Solving Wordle on 2022/01/22\")"
   ]
  },
  {
   "cell_type": "markdown",
   "metadata": {},
   "source": [
    "### 4.3. Simulate the guessing process with a specific target word"
   ]
  },
  {
   "cell_type": "code",
   "execution_count": 6,
   "metadata": {},
   "outputs": [
    {
     "name": "stdout",
     "output_type": "stream",
     "text": [
      "##################################################\n",
      "### Welcome to the Interactive Mode! ###\n",
      "# Wordle Response Format-  A 5-character response with the format:\n",
      "- \"0\": wrong letter\n",
      "- \"1\": correct letter but wrong position\n",
      "- \"2\": correct letter and correct position\n",
      "##################################################\n",
      "## Input Your Own Target? (<5-letter word>/empty):\n",
      "laugh\n",
      "\n",
      "TARGET:  laugh\n",
      "# Guesses: 1, Picked Guess: alert (Score: 4117.00), # Available Candidates: 2315\n",
      "# Responses: 11000\n",
      "(... click Enter to proceed ...)\n",
      "\n",
      "# Guesses: 2, Picked Guess: noisy (Score: 78.00), # Available Candidates: 60\n",
      "# Responses: 00000\n",
      "(... click Enter to proceed ...)\n",
      "\n",
      "# Guesses: 3, Picked Guess: chump (Score: 12.00), # Available Candidates: 7\n",
      "# Responses: 01200\n",
      "(... click Enter to proceed ...)\n",
      "\n",
      "# Guesses: 4, Picked Guess: laugh (Score: 0.00), # Available Candidates: 1\n",
      "# Responses: 22222\n",
      "Congrats! Total Guesses: 4\n"
     ]
    }
   ],
   "source": [
    "interactive_play(wordle, heuristic_player, with_target=True)"
   ]
  },
  {
   "cell_type": "markdown",
   "metadata": {},
   "source": [
    "### 4.4. Specify a different \"first-guess\" other than the default "
   ]
  },
  {
   "cell_type": "code",
   "execution_count": 11,
   "metadata": {},
   "outputs": [
    {
     "name": "stdout",
     "output_type": "stream",
     "text": [
      "##################################################\n",
      "### Welcome to the Interactive Mode! ###\n",
      "# Wordle Response Format-  A 5-character response with the format:\n",
      "- \"0\": wrong letter\n",
      "- \"1\": correct letter but wrong position\n",
      "- \"2\": correct letter and correct position\n",
      "##################################################\n",
      "## Input Your Own Target? (<5-letter word>/empty):\n",
      "laugh\n",
      "\n",
      "TARGET:  laugh\n",
      "# Guesses: 1, Picked Guess: raise (Score: 4067.00), # Available Candidates: 2315\n",
      "# Responses: 02000\n",
      "(... click Enter to proceed ...)\n",
      "\n",
      "# Guesses: 2, Picked Guess: lynch (Score: 136.00), # Available Candidates: 91\n",
      "# Responses: 20002\n",
      "(... click Enter to proceed ...)\n",
      "\n",
      "# Guesses: 3, Picked Guess: laugh (Score: 0.00), # Available Candidates: 1\n",
      "# Responses: 22222\n",
      "Congrats! Total Guesses: 3\n"
     ]
    }
   ],
   "source": [
    "interactive_play(wordle, heuristic_player, with_target=True, first_guess=\"raise\")"
   ]
  },
  {
   "cell_type": "markdown",
   "metadata": {},
   "source": [
    "### 4.5. Examinate the overall performance (number of guesses) of a \"first-guess\" among all possible targets"
   ]
  },
  {
   "cell_type": "code",
   "execution_count": 10,
   "metadata": {},
   "outputs": [
    {
     "name": "stderr",
     "output_type": "stream",
     "text": [
      "100%|██████████| 2315/2315 [00:44<00:00, 51.82it/s]\n"
     ]
    },
    {
     "data": {
      "text/plain": [
       "'Mean: 3.824, Min: 1, Max: 6, Count of Guesses: [1] 1 [2] 28 [3] 687 [4] 1281 [5] 298 [6] 20'"
      ]
     },
     "execution_count": 10,
     "metadata": {},
     "output_type": "execute_result"
    }
   ],
   "source": [
    "from main import get_first_guess_performance\n",
    "\n",
    "get_first_guess_performance(wordle, heuristic_player, first_guess=\"raise\")"
   ]
  },
  {
   "cell_type": "markdown",
   "metadata": {},
   "source": [
    "### 4.6. Check the top-K \"first-guess\" (with the highest internal solver score) performances"
   ]
  },
  {
   "cell_type": "code",
   "execution_count": 9,
   "metadata": {
    "scrolled": false
   },
   "outputs": [
    {
     "name": "stderr",
     "output_type": "stream",
     "text": [
      "  0%|          | 5/2315 [00:00<00:55, 41.59it/s]"
     ]
    },
    {
     "name": "stdout",
     "output_type": "stream",
     "text": [
      "##################################################\n",
      "### Getting scores of all words at first guess ... ###\n",
      "output/top_scores_HeuristicWordlePlayer.txt saved.\n",
      "##################################################\n",
      "### Checking performance of the topK words as a first guess for all possible targets...\n",
      "##################################################\n"
     ]
    },
    {
     "name": "stderr",
     "output_type": "stream",
     "text": [
      "100%|██████████| 2315/2315 [00:46<00:00, 49.79it/s]\n",
      "  0%|          | 5/2315 [00:00<00:54, 42.65it/s]"
     ]
    },
    {
     "name": "stdout",
     "output_type": "stream",
     "text": [
      "(0) Guess: alert (Score: 4117.00), Mean: 3.860, Min: 1, Max: 7, Count of Guesses: [1] 1 [2] 25 [3] 662 [4] 1269 [5] 329 [6] 26 [7] 3\n"
     ]
    },
    {
     "name": "stderr",
     "output_type": "stream",
     "text": [
      "100%|██████████| 2315/2315 [00:46<00:00, 49.58it/s]\n",
      "  0%|          | 5/2315 [00:00<00:49, 46.90it/s]"
     ]
    },
    {
     "name": "stdout",
     "output_type": "stream",
     "text": [
      "(1) Guess: alter (Score: 4117.00), Mean: 3.855, Min: 1, Max: 6, Count of Guesses: [1] 1 [2] 25 [3] 649 [4] 1296 [5] 322 [6] 22\n"
     ]
    },
    {
     "name": "stderr",
     "output_type": "stream",
     "text": [
      "100%|██████████| 2315/2315 [00:45<00:00, 50.40it/s]"
     ]
    },
    {
     "name": "stdout",
     "output_type": "stream",
     "text": [
      "(2) Guess: later (Score: 4117.00), Mean: 3.859, Min: 1, Max: 6, Count of Guesses: [1] 1 [2] 34 [3] 643 [4] 1277 [5] 333 [6] 27\n"
     ]
    },
    {
     "name": "stderr",
     "output_type": "stream",
     "text": [
      "\n"
     ]
    }
   ],
   "source": [
    "from main import check_topK_guesses_performance\n",
    "\n",
    "check_topK_guesses_performance(wordle, heuristic_player, topK=3)"
   ]
  },
  {
   "cell_type": "markdown",
   "metadata": {},
   "source": [
    "# 5. Max Information Gain Solver\n",
    "- the usage is similar to the heuristic solver\n",
    "- precomputation occurs at the first instantiate of the solver object\n",
    "- use a larger word list for guessing improves the average number of guesses but also runs drastically slower"
   ]
  },
  {
   "cell_type": "markdown",
   "metadata": {},
   "source": [
    "### 5.1. Initiate a solver object with a small-size word list and specifies the cache name for precomputation"
   ]
  },
  {
   "cell_type": "code",
   "execution_count": 12,
   "metadata": {},
   "outputs": [],
   "source": [
    "mig_player = MaxInformationGainWordlePlayer(\n",
    "    wordle, guess_list=small_words, precompute=\"small\")"
   ]
  },
  {
   "cell_type": "markdown",
   "metadata": {},
   "source": [
    "### 5.2. Play interactively with an unknown target"
   ]
  },
  {
   "cell_type": "code",
   "execution_count": 14,
   "metadata": {
    "scrolled": false
   },
   "outputs": [
    {
     "name": "stdout",
     "output_type": "stream",
     "text": [
      "##################################################\n",
      "### Welcome to the Interactive Mode! ###\n",
      "# Wordle Response Format-  A 5-character response with the format:\n",
      "- \"0\": wrong letter\n",
      "- \"1\": correct letter but wrong position\n",
      "- \"2\": correct letter and correct position\n",
      "##################################################\n",
      "\n",
      "TARGET:  UNKNOWN\n",
      "# Guesses: 1, Picked Guess: raise (Score: 4.07), # Available Candidates: 2315\n",
      "Type the response...\n",
      "00102\n",
      "\n",
      "# Guesses: 2, Picked Guess: lingo (Score: 2.59), # Available Candidates: 25\n",
      "Type the response...\n",
      "02200\n",
      "\n",
      "# Guesses: 3, Picked Guess: rower (Score: 0.69), # Available Candidates: 2\n",
      "Type the response...\n",
      "00110\n",
      "\n",
      "# Guesses: 4, Picked Guess: wince (Score: 0.00), # Available Candidates: 1\n",
      "Type the response...\n",
      "22222\n",
      "\n",
      "Congrats! Total Guesses: 4\n"
     ]
    }
   ],
   "source": [
    "interactive_play(wordle, mig_player, with_target=False)"
   ]
  },
  {
   "cell_type": "markdown",
   "metadata": {},
   "source": [
    "### use it to solve the daily Wordle"
   ]
  },
  {
   "cell_type": "markdown",
   "metadata": {},
   "source": [
    "![alt text](img/solve_wordle_max_entropy_raise_20220122.png \"Solving Wordle on 2022/01/22\")"
   ]
  },
  {
   "cell_type": "markdown",
   "metadata": {},
   "source": [
    "### 5.3. Examinate the overall performance (number of guesses) of a \"first-guess\" among all possible targets"
   ]
  },
  {
   "cell_type": "code",
   "execution_count": 16,
   "metadata": {},
   "outputs": [
    {
     "name": "stderr",
     "output_type": "stream",
     "text": [
      "100%|██████████| 2315/2315 [13:52<00:00,  3.35it/s]\n"
     ]
    },
    {
     "data": {
      "text/plain": [
       "'Mean: 3.654, Min: 1, Max: 5, Count of Guesses: [1] 1 [2] 46 [3] 815 [4] 1344 [5] 109'"
      ]
     },
     "execution_count": 16,
     "metadata": {},
     "output_type": "execute_result"
    }
   ],
   "source": [
    "get_first_guess_performance(wordle, mig_player, first_guess=\"react\")"
   ]
  },
  {
   "cell_type": "markdown",
   "metadata": {},
   "source": [
    "### 5.4. Initiate a solver object with a large-size word list"
   ]
  },
  {
   "cell_type": "code",
   "execution_count": 15,
   "metadata": {},
   "outputs": [],
   "source": [
    "large_mig_player = MaxInformationGainWordlePlayer(\n",
    "    wordle, guess_list=large_words, precompute=\"large\")"
   ]
  },
  {
   "cell_type": "markdown",
   "metadata": {},
   "source": [
    "### 5.4. Check the top-K \"first-guess\" (with the highest internal solver score) performances"
   ]
  },
  {
   "cell_type": "code",
   "execution_count": null,
   "metadata": {
    "scrolled": true
   },
   "outputs": [],
   "source": [
    "check_topK_guesses_performance(wordle, large_mig_player, topK=3)"
   ]
  }
 ],
 "metadata": {
  "kernelspec": {
   "display_name": "Python 3",
   "language": "python",
   "name": "python3"
  },
  "language_info": {
   "codemirror_mode": {
    "name": "ipython",
    "version": 3
   },
   "file_extension": ".py",
   "mimetype": "text/x-python",
   "name": "python",
   "nbconvert_exporter": "python",
   "pygments_lexer": "ipython3",
   "version": "3.5.7"
  }
 },
 "nbformat": 4,
 "nbformat_minor": 2
}
